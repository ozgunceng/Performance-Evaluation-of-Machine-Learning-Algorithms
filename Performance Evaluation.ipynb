{
 "cells": [
  {
   "cell_type": "markdown",
   "id": "fc49cc7a-81e8-4f81-8b97-94a66f0c2dae",
   "metadata": {},
   "source": [
    "# Performance Evaluation of Machine Learning Algorithms\n",
    "## Özgün G\n",
    "###"
   ]
  },
  {
   "cell_type": "markdown",
   "id": "866f3816-e51f-4c19-b127-028dbebc02d9",
   "metadata": {},
   "source": [
    "#"
   ]
  },
  {
   "cell_type": "markdown",
   "id": "f5f0918c-c7cf-4277-986a-1fcdf9885bb8",
   "metadata": {},
   "source": [
    "## Decision Tree Performance Evaluation"
   ]
  },
  {
   "cell_type": "markdown",
   "id": "1096e34d-bf04-4537-a98e-ad5b87fd7eb6",
   "metadata": {},
   "source": [
    "### Evaluation With First Parameters /  params = {'max_leaf_nodes': list(range(2, 500)), 'min_samples_split': [2, 3, 4]} "
   ]
  },
  {
   "cell_type": "code",
   "execution_count": 216,
   "id": "8b09ff28-621e-4ac3-91a4-333dc8a3c353",
   "metadata": {},
   "outputs": [],
   "source": [
    "##Generate a moons dataset using make_moons(n_samples=10000, noise=0.4). \n",
    "from sklearn.datasets import make_moons "
   ]
  },
  {
   "cell_type": "code",
   "execution_count": 217,
   "id": "59fb6089-e722-4f2c-94a8-f629acd59e29",
   "metadata": {},
   "outputs": [],
   "source": [
    "X, y = make_moons(n_samples=10000, noise=0.4, random_state=42) "
   ]
  },
  {
   "cell_type": "code",
   "execution_count": 218,
   "id": "75367691-264c-4cf4-af3e-140a8d1a39e2",
   "metadata": {},
   "outputs": [],
   "source": [
    "##Split it into a training set and a test set using train_test_split(). \n",
    "from sklearn.model_selection import train_test_split "
   ]
  },
  {
   "cell_type": "code",
   "execution_count": 219,
   "id": "44691620-7448-4e97-8fea-36813edfe831",
   "metadata": {},
   "outputs": [],
   "source": [
    "X_train, X_test, y_train, y_test = train_test_split(X, y, test_size=0.2, random_state=42) "
   ]
  },
  {
   "cell_type": "code",
   "execution_count": 220,
   "id": "39ed5013-2693-4938-9186-1bfa1de15539",
   "metadata": {},
   "outputs": [],
   "source": [
    "#Ugrid search\n",
    "from sklearn.tree import DecisionTreeClassifier "
   ]
  },
  {
   "cell_type": "code",
   "execution_count": 221,
   "id": "4fba90f9-b003-47e7-a94d-4d4f5e4d4661",
   "metadata": {},
   "outputs": [],
   "source": [
    "params = {'max_leaf_nodes': list(range(2, 500)), 'min_samples_split': [2, 3, 4]} \n",
    "grid_search_cv = GridSearchCV(DecisionTreeClassifier(random_state=42), params, n_jobs=-1, verbose=1, cv=3)"
   ]
  },
  {
   "cell_type": "code",
   "execution_count": 222,
   "id": "109a4376-dbfd-4e96-9e22-e8630297bd1c",
   "metadata": {},
   "outputs": [
    {
     "name": "stdout",
     "output_type": "stream",
     "text": [
      "Fitting 3 folds for each of 1494 candidates, totalling 4482 fits\n"
     ]
    },
    {
     "data": {
      "text/plain": [
       "DecisionTreeClassifier(max_leaf_nodes=17, random_state=42)"
      ]
     },
     "execution_count": 222,
     "metadata": {},
     "output_type": "execute_result"
    }
   ],
   "source": [
    "grid_search_cv.fit(X_train, y_train) \n",
    "grid_search_cv.best_estimator_ "
   ]
  },
  {
   "cell_type": "code",
   "execution_count": 223,
   "id": "2549c016-4e47-4995-8ec6-60346088d550",
   "metadata": {},
   "outputs": [
    {
     "data": {
      "image/png": "[encoded data removed]",
      "text/plain": [
       "<Figure size 432x288 with 2 Axes>"
      ]
     },
     "metadata": {
      "needs_background": "light"
     },
     "output_type": "display_data"
    }
   ],
   "source": [
    "# Generate confusion matrix\n",
    "matrix = plot_confusion_matrix(clf, X_test, y_test,\n",
    "                                 cmap=plt.cm.Blues,\n",
    "                                 normalize='true')\n",
    "plt.title('Confusion matrix for our Tree')\n",
    "plt.show(matrix)\n",
    "plt.show()"
   ]
  },
  {
   "cell_type": "markdown",
   "id": "9f1de1b9-9223-4d84-aeba-d1227cf83905",
   "metadata": {},
   "source": [
    "#### Accuracy Calculation For Decision Tree"
   ]
  },
  {
   "cell_type": "code",
   "execution_count": 224,
   "id": "d79e9879-fd0f-414e-80df-022fe9a38215",
   "metadata": {},
   "outputs": [
    {
     "data": {
      "text/plain": [
       "0.8695"
      ]
     },
     "execution_count": 224,
     "metadata": {},
     "output_type": "execute_result"
    }
   ],
   "source": [
    "from sklearn.metrics import accuracy_score \n",
    "y_pred = grid_search_cv.predict(X_test) \n",
    "accuracy_score(y_test, y_pred) "
   ]
  },
  {
   "cell_type": "markdown",
   "id": "25674731-9bca-458c-b2b9-e14a533d57f0",
   "metadata": {},
   "source": [
    "#### Precision-Recall Calculation For Decision Tree"
   ]
  },
  {
   "cell_type": "code",
   "execution_count": 225,
   "id": "a0183239-5cb1-43d0-b1e0-45844aff3ebf",
   "metadata": {},
   "outputs": [
    {
     "name": "stdout",
     "output_type": "stream",
     "text": [
      "0.8211654835847382\n"
     ]
    }
   ],
   "source": [
    "# Compute the average precision score\n",
    "from sklearn.metrics import average_precision_score\n",
    "average_precision = average_precision_score(y_test, y_pred, average='micro')\n",
    "print(average_precision)"
   ]
  },
  {
   "cell_type": "markdown",
   "id": "7e67f923-5b1f-4f27-bf27-c6735278f476",
   "metadata": {},
   "source": [
    "#### Mean Squared Error Calculation For Decision Tree"
   ]
  },
  {
   "cell_type": "code",
   "execution_count": 226,
   "id": "10eb5df9-61c0-445e-bdb7-39f7375f2dee",
   "metadata": {},
   "outputs": [
    {
     "data": {
      "text/plain": [
       "0.1305"
      ]
     },
     "execution_count": 226,
     "metadata": {},
     "output_type": "execute_result"
    }
   ],
   "source": [
    "#compute the mean_squared_error\n",
    "from sklearn.metrics import mean_squared_error\n",
    "mean_squared_error(y_test, y_pred)"
   ]
  },
  {
   "cell_type": "markdown",
   "id": "73cd374e-f7f9-443b-b86e-33b2aa314842",
   "metadata": {},
   "source": [
    "#### ROC(Receiver Operating Characteristic) Curve Calculation For Decision Tree"
   ]
  },
  {
   "cell_type": "code",
   "execution_count": 228,
   "id": "0e4922fa-cb4d-499d-a3b0-ac92cf548d8c",
   "metadata": {},
   "outputs": [
    {
     "data": {
      "image/png": "[encoded data removed]",
      "text/plain": [
       "<Figure size 432x288 with 1 Axes>"
      ]
     },
     "metadata": {
      "needs_background": "light"
     },
     "output_type": "display_data"
    }
   ],
   "source": [
    "#ROC Curve Calculation\n",
    "import matplotlib.pyplot as plt\n",
    "import numpy as np\n",
    "from sklearn import metrics\n",
    "\n",
    "fpr, tpr, thresholds = metrics.roc_curve(y_test, y_pred)\n",
    "roc_auc = metrics.auc(fpr, tpr)\n",
    "display = metrics.RocCurveDisplay(fpr=fpr, tpr=tpr, roc_auc=roc_auc, estimator_name='example estimator')\n",
    "display.plot()\n",
    "plt.show()"
   ]
  },
  {
   "cell_type": "markdown",
   "id": "05e63c5a-403f-40fb-b849-f5b0fda254cb",
   "metadata": {},
   "source": [
    "#"
   ]
  },
  {
   "cell_type": "markdown",
   "id": "27a35a35-f0ad-4ce0-8eea-a67f0cef95b0",
   "metadata": {},
   "source": [
    "### Evaluation For Decision Tree With Other Parameters /  params = {'min_weight_fraction_leaf':[0,0.5],'max_depth':[1,5,9],'max_leaf_nodes': list(range(2, 500)), 'min_samples_split': [2, 3, 4]} \n"
   ]
  },
  {
   "cell_type": "markdown",
   "id": "4ead514a-1894-48aa-9972-f4c46872536d",
   "metadata": {},
   "source": [
    "######"
   ]
  },
  {
   "cell_type": "code",
   "execution_count": 236,
   "id": "b1e25fe2-1677-45b8-b056-b7213e1a69f6",
   "metadata": {},
   "outputs": [],
   "source": [
    "params = {'min_weight_fraction_leaf':[0,0.5],'max_depth':[1,5,9],'max_leaf_nodes': list(range(2, 500)), 'min_samples_split': [2, 3, 4]} \n",
    "grid_search_cv = GridSearchCV(DecisionTreeClassifier(random_state=42), params, n_jobs=-1, verbose=1, cv=3)"
   ]
  },
  {
   "cell_type": "code",
   "execution_count": 237,
   "id": "9ed71956-8d7c-4392-bdee-6e7eb5cb0326",
   "metadata": {},
   "outputs": [
    {
     "name": "stdout",
     "output_type": "stream",
     "text": [
      "Fitting 3 folds for each of 8964 candidates, totalling 26892 fits\n"
     ]
    },
    {
     "data": {
      "text/plain": [
       "DecisionTreeClassifier(max_depth=9, max_leaf_nodes=48,\n",
       "                       min_weight_fraction_leaf=0, random_state=42)"
      ]
     },
     "execution_count": 237,
     "metadata": {},
     "output_type": "execute_result"
    }
   ],
   "source": [
    "grid_search_cv.fit(X_train, y_train) \n",
    "grid_search_cv.best_estimator_ "
   ]
  },
  {
   "cell_type": "markdown",
   "id": "95f77ea3-1781-4d6a-946e-896c8be3bb23",
   "metadata": {},
   "source": [
    "#### Accuracy Calculation For Second Decision Tree"
   ]
  },
  {
   "cell_type": "code",
   "execution_count": 238,
   "id": "c509bc84-2017-48d0-9db1-8afd2c08ace8",
   "metadata": {},
   "outputs": [
    {
     "data": {
      "text/plain": [
       "0.8605"
      ]
     },
     "execution_count": 238,
     "metadata": {},
     "output_type": "execute_result"
    }
   ],
   "source": [
    "from sklearn.metrics import accuracy_score \n",
    "y_pred = grid_search_cv.predict(X_test) \n",
    "accuracy_score(y_test, y_pred) "
   ]
  },
  {
   "cell_type": "markdown",
   "id": "9c185648-6bff-4abd-91aa-4cd6840fb63d",
   "metadata": {},
   "source": [
    "#### Precision-Recall Calculation For Second Decision Tree"
   ]
  },
  {
   "cell_type": "code",
   "execution_count": 239,
   "id": "1c85cba2-935e-4819-bd1c-e52d4fd00544",
   "metadata": {},
   "outputs": [
    {
     "name": "stdout",
     "output_type": "stream",
     "text": [
      "0.8130484773391672\n"
     ]
    }
   ],
   "source": [
    "# Compute the average precision score\n",
    "from sklearn.metrics import average_precision_score\n",
    "average_precision = average_precision_score(y_test, y_pred, average='micro')\n",
    "print(average_precision)"
   ]
  },
  {
   "cell_type": "markdown",
   "id": "4d3cc9bb-6fea-4260-ad35-f12fc3d55058",
   "metadata": {},
   "source": [
    "#### Mean Squared Error Calculation For Second Decision Tree"
   ]
  },
  {
   "cell_type": "code",
   "execution_count": 240,
   "id": "47af60dc-824b-403c-883a-6d58e66c05cb",
   "metadata": {},
   "outputs": [
    {
     "data": {
      "text/plain": [
       "0.1395"
      ]
     },
     "execution_count": 240,
     "metadata": {},
     "output_type": "execute_result"
    }
   ],
   "source": [
    "#compute the mean_squared_error\n",
    "from sklearn.metrics import mean_squared_error\n",
    "mean_squared_error(y_test, y_pred)"
   ]
  },
  {
   "cell_type": "markdown",
   "id": "c5c820a3-966d-4d9a-997c-04671a370d8c",
   "metadata": {},
   "source": [
    "#### ROC(Receiver Operating Characteristic) Curve Calculation For Second Decision Tree"
   ]
  },
  {
   "cell_type": "code",
   "execution_count": 241,
   "id": "92e3727e-b356-4c1d-80ee-a3d205eb2de5",
   "metadata": {},
   "outputs": [
    {
     "data": {
      "image/png": "[encoded data removed]",
      "text/plain": [
       "<Figure size 432x288 with 1 Axes>"
      ]
     },
     "metadata": {
      "needs_background": "light"
     },
     "output_type": "display_data"
    }
   ],
   "source": [
    "#ROC Curve Calculation\n",
    "import matplotlib.pyplot as plt\n",
    "import numpy as np\n",
    "from sklearn import metrics\n",
    "\n",
    "fpr, tpr, thresholds = metrics.roc_curve(y_test, y_pred)\n",
    "roc_auc = metrics.auc(fpr, tpr)\n",
    "display = metrics.RocCurveDisplay(fpr=fpr, tpr=tpr, roc_auc=roc_auc, estimator_name='example estimator')\n",
    "display.plot()\n",
    "plt.show()"
   ]
  },
  {
   "cell_type": "markdown",
   "id": "00f738cf-e1d5-401a-ae0e-5f4aa725fff2",
   "metadata": {},
   "source": [
    "#"
   ]
  },
  {
   "cell_type": "markdown",
   "id": "a2b04774-b7c2-4334-a48e-29d6ec9faece",
   "metadata": {},
   "source": [
    "## SVM Classifier Tree Performance Evaluation"
   ]
  },
  {
   "cell_type": "code",
   "execution_count": 256,
   "id": "3d0af6e2-ac9d-4741-8ca7-8778abc04d46",
   "metadata": {},
   "outputs": [],
   "source": [
    "# Common imports \n",
    "import numpy as np "
   ]
  },
  {
   "cell_type": "code",
   "execution_count": 257,
   "id": "0a2a0d72-d70d-44d6-b0f8-33c7e8f4815d",
   "metadata": {},
   "outputs": [],
   "source": [
    "# to make this notebook's output stable across runs \n",
    "np.random.seed(42) \n",
    "from sklearn.svm import SVC, LinearSVC \n",
    "from sklearn.preprocessing import StandardScaler "
   ]
  },
  {
   "cell_type": "code",
   "execution_count": 258,
   "id": "6c4c2d26-f441-43be-b5de-4dfa1d9b1d70",
   "metadata": {},
   "outputs": [],
   "source": [
    "from sklearn.datasets import make_moons\n",
    "X, y = make_moons(n_samples=10000, noise=0.4, random_state=42)"
   ]
  },
  {
   "cell_type": "code",
   "execution_count": 259,
   "id": "7d98f982-df2c-4b74-960d-187259b90881",
   "metadata": {},
   "outputs": [],
   "source": [
    "\n",
    "X_train, X_test, y_train, y_test = train_test_split(X, y, test_size=0.2, random_state=42) "
   ]
  },
  {
   "cell_type": "code",
   "execution_count": 260,
   "id": "b7856ea5-5f47-47d8-9406-b1212480767e",
   "metadata": {},
   "outputs": [],
   "source": [
    "np.random.seed(42) \n",
    "rnd_idx = np.random.permutation(6000) \n",
    "X_train = X_train[rnd_idx] \n",
    "y_train = y_train[rnd_idx]"
   ]
  },
  {
   "cell_type": "code",
   "execution_count": 261,
   "id": "f40e12dd-c28a-4f58-b349-6dc5a51d3db3",
   "metadata": {},
   "outputs": [
    {
     "data": {
      "text/plain": [
       "LinearSVC(random_state=42)"
      ]
     },
     "execution_count": 261,
     "metadata": {},
     "output_type": "execute_result"
    }
   ],
   "source": [
    "lin_clf = LinearSVC(random_state=42) \n",
    "lin_clf.fit(X_train, y_train) "
   ]
  },
  {
   "cell_type": "code",
   "execution_count": 262,
   "id": "e5b51e98-1307-4588-9e50-030b85155197",
   "metadata": {},
   "outputs": [
    {
     "data": {
      "image/png": "[encoded data removed]",
      "text/plain": [
       "<Figure size 432x288 with 2 Axes>"
      ]
     },
     "metadata": {
      "needs_background": "light"
     },
     "output_type": "display_data"
    }
   ],
   "source": [
    "# Generate confusion matrix\n",
    "matrix = plot_confusion_matrix(clf, X_test, y_test,\n",
    "                                 cmap=plt.cm.Blues,\n",
    "                                 normalize='true')\n",
    "plt.title('Confusion matrix for our Tree')\n",
    "plt.show(matrix)\n",
    "plt.show()"
   ]
  },
  {
   "cell_type": "markdown",
   "id": "f3d3be25-c5ac-4dba-9782-fcf722ba0136",
   "metadata": {},
   "source": [
    "#### Accuracy Calculation For SVM"
   ]
  },
  {
   "cell_type": "code",
   "execution_count": 133,
   "id": "63467b87-643b-4783-920a-8bcb276674c8",
   "metadata": {},
   "outputs": [
    {
     "data": {
      "text/plain": [
       "0.83"
      ]
     },
     "execution_count": 133,
     "metadata": {},
     "output_type": "execute_result"
    }
   ],
   "source": [
    "from sklearn.metrics import accuracy_score \n",
    "y_pred = lin_clf.predict(X_train) \n",
    "accuracy_score(y_train, y_pred) "
   ]
  },
  {
   "cell_type": "code",
   "execution_count": 244,
   "id": "16f6b204-93a0-44f8-8155-6108412af7b2",
   "metadata": {},
   "outputs": [],
   "source": [
    "scaler = StandardScaler() \n",
    "X_train_scaled = scaler.fit_transform(X_train.astype(np.float32)) \n",
    "X_test_scaled = scaler.transform(X_test.astype(np.float32)) "
   ]
  },
  {
   "cell_type": "markdown",
   "id": "f1072966-ccfa-43f8-ba01-2f796b5f96fd",
   "metadata": {},
   "source": [
    "#### Accuracy Calculation After Scale "
   ]
  },
  {
   "cell_type": "code",
   "execution_count": 245,
   "id": "b494fd74-afae-4d48-8666-93f9d677e057",
   "metadata": {},
   "outputs": [
    {
     "data": {
      "text/plain": [
       "0.829375"
      ]
     },
     "execution_count": 245,
     "metadata": {},
     "output_type": "execute_result"
    }
   ],
   "source": [
    "lin_clf = LinearSVC(random_state=42) \n",
    "lin_clf.fit(X_train_scaled, y_train) \n",
    "y_pred = lin_clf.predict(X_train_scaled) \n",
    "accuracy_score(y_train, y_pred) "
   ]
  },
  {
   "cell_type": "markdown",
   "id": "356e1f26-f764-4d87-8dc7-fc5dcb39a626",
   "metadata": {},
   "source": [
    "#### Precision-Recall Calculation For Second Decision Tree"
   ]
  },
  {
   "cell_type": "code",
   "execution_count": 252,
   "id": "9b9036b1-3bf2-4c2a-9fd9-8a824bc40956",
   "metadata": {},
   "outputs": [
    {
     "name": "stdout",
     "output_type": "stream",
     "text": [
      "0.8143431249530468\n"
     ]
    }
   ],
   "source": [
    "# Compute the average precision score\n",
    "from sklearn.metrics import average_precision_score\n",
    "average_precision = average_precision_score(y_test, y_pred, average='micro')\n",
    "print(average_precision)"
   ]
  },
  {
   "cell_type": "markdown",
   "id": "066c7a4e-fcde-4b1c-8232-d7fec2888303",
   "metadata": {},
   "source": [
    "#### Mean Squared Error Calculation For Second Decision Tree"
   ]
  },
  {
   "cell_type": "code",
   "execution_count": 253,
   "id": "6aa69269-1622-4999-8906-0edeb3de7fa6",
   "metadata": {},
   "outputs": [
    {
     "data": {
      "text/plain": [
       "0.1325"
      ]
     },
     "execution_count": 253,
     "metadata": {},
     "output_type": "execute_result"
    }
   ],
   "source": [
    "#compute the mean_squared_error\n",
    "from sklearn.metrics import mean_squared_error\n",
    "mean_squared_error(y_test, y_pred)"
   ]
  },
  {
   "cell_type": "markdown",
   "id": "9b7af7d5-eeea-421b-897b-bda05a54683f",
   "metadata": {},
   "source": [
    "#### ROC(Receiver Operating Characteristic) Curve Calculation For Second Decision Tree"
   ]
  },
  {
   "cell_type": "code",
   "execution_count": 254,
   "id": "45a25ad4-2d0f-47c3-8f18-1f1598b7a6a7",
   "metadata": {},
   "outputs": [
    {
     "data": {
      "image/png": "[encoded data removed]",
      "text/plain": [
       "<Figure size 432x288 with 1 Axes>"
      ]
     },
     "metadata": {
      "needs_background": "light"
     },
     "output_type": "display_data"
    }
   ],
   "source": [
    "#ROC Curve Calculation\n",
    "import matplotlib.pyplot as plt\n",
    "import numpy as np\n",
    "from sklearn import metrics\n",
    "\n",
    "fpr, tpr, thresholds = metrics.roc_curve(y_test, y_pred)\n",
    "roc_auc = metrics.auc(fpr, tpr)\n",
    "display = metrics.RocCurveDisplay(fpr=fpr, tpr=tpr, roc_auc=roc_auc, estimator_name='example estimator')\n",
    "display.plot()\n",
    "plt.show()"
   ]
  },
  {
   "cell_type": "code",
   "execution_count": null,
   "id": "32a6f720-13cf-4304-8d41-7acb3a0be992",
   "metadata": {},
   "outputs": [],
   "source": []
  },
  {
   "cell_type": "code",
   "execution_count": null,
   "id": "cf973a23-f7ce-42bc-97c8-11c8ec9367eb",
   "metadata": {},
   "outputs": [],
   "source": []
  }
 ],
 "metadata": {
  "kernelspec": {
   "display_name": "Python 3",
   "language": "python",
   "name": "python3"
  },
  "language_info": {
   "codemirror_mode": {
    "name": "ipython",
    "version": 3
   },
   "file_extension": ".py",
   "mimetype": "text/x-python",
   "name": "python",
   "nbconvert_exporter": "python",
   "pygments_lexer": "ipython3",
   "version": "3.8.8"
  }
 },
 "nbformat": 4,
 "nbformat_minor": 5
}

